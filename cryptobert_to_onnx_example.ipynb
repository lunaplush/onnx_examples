{
 "cells": [
  {
   "cell_type": "markdown",
   "id": "8cd74640-8431-4baa-be82-6285d62444e8",
   "metadata": {},
   "source": [
    "# Open Neural Network Exchange\n",
    "# **ONNX**"
   ]
  },
  {
   "cell_type": "code",
   "execution_count": null,
   "id": "4bef42a9-e3f5-4244-b9c9-f36b4817261d",
   "metadata": {},
   "outputs": [],
   "source": [
    "import numpy as np\n",
    "import os, time\n",
    "from transformers import TextClassificationPipeline, AutoTokenizer, AutoModelForSequenceClassification \n",
    "import torch, onnx\n",
    "import onnxruntime\n",
    "from onnxruntime import InferenceSession, SessionOptions\n",
    "from onnxruntime.capi.onnxruntime_pybind11_state import InvalidArgument"
   ]
  },
  {
   "cell_type": "code",
   "execution_count": 2,
   "id": "627f2947-9ebb-4f82-a375-c44905e9281f",
   "metadata": {},
   "outputs": [],
   "source": [
    "model_name = \"ElKulako/cryptobert\"\n",
    "tokenizer = AutoTokenizer.from_pretrained(model_name, use_fast = False)\n",
    "model = AutoModelForSequenceClassification.from_pretrained(model_name, num_labels = 3)\n",
    "pipeline =  TextClassificationPipeline(model=model, tokenizer=tokenizer, max_length=64, truncation=True, padding='max_length', top_k=None)"
   ]
  },
  {
   "cell_type": "code",
   "execution_count": 3,
   "id": "03cf566c-7729-4046-9942-63091fda1a89",
   "metadata": {},
   "outputs": [
    {
     "name": "stdout",
     "output_type": "stream",
     "text": [
      "[[{'label': 'Neutral', 'score': 0.6913473010063171}, {'label': 'Bullish', 'score': 0.308287113904953}, {'label': 'Bearish', 'score': 0.00036554550752043724}]] \n",
      "\n",
      "[[{'label': 'Neutral', 'score': 0.5331341624259949}, {'label': 'Bullish', 'score': 0.4627279043197632}, {'label': 'Bearish', 'score': 0.004137895535677671}]] \n",
      "\n",
      "[[{'label': 'Neutral', 'score': 0.8244197964668274}, {'label': 'Bullish', 'score': 0.17524367570877075}, {'label': 'Bearish', 'score': 0.00033660337794572115}]] \n",
      "\n",
      "[[{'label': 'Bullish', 'score': 0.5207508206367493}, {'label': 'Neutral', 'score': 0.4782118797302246}, {'label': 'Bearish', 'score': 0.001037305104546249}]] \n",
      "\n",
      "[[{'label': 'Bullish', 'score': 0.54047691822052}, {'label': 'Neutral', 'score': 0.44001147150993347}, {'label': 'Bearish', 'score': 0.019511574879288673}]] \n",
      "\n",
      "[[{'label': 'Neutral', 'score': 0.5612754225730896}, {'label': 'Bullish', 'score': 0.43397819995880127}, {'label': 'Bearish', 'score': 0.004746420308947563}]] \n",
      "\n",
      "[[{'label': 'Neutral', 'score': 0.3876805305480957}, {'label': 'Bearish', 'score': 0.343349814414978}, {'label': 'Bullish', 'score': 0.26896968483924866}]] \n",
      "\n",
      "1.2191812992095947\n"
     ]
    }
   ],
   "source": [
    "t_start = time.time()\n",
    "news_list = [\"How the GBTC premium commerce ruined Barry Silbert, his DCG empire and took crypto lending platforms with them\",\n",
    "             \"MicroStrategy’s Bitcoin Strategy Sets Tongues Wagging Even As It Doubles Down On BTC Purchases ⋆ ZyCrypto\",\n",
    "             \"How the GBTC premium trade ruined Barry Silbert, his DCG empire and took crypto lending platforms with them\",\n",
    "             \"Bitcoin Holders To Expect More Difficulties As Data Point To Looming BTC Price Drop\",\n",
    "             \"Bitcoin Breaks Past $17,000 Barrier – Will BTC Also Breach 4% Weekly Run?\",\n",
    "             \"Bitcoin Price Today 9 Jan: BTC Increases By 1.79% Painting The Chart Green\",\n",
    "             \"Bitcoin: This is what large investor and retail interest can do for BTC over time\"                          \n",
    "]\n",
    "for n in news_list:\n",
    "    print(pipeline(n),\"\\n\")\n",
    "    # input_ids = torch.tensor(tokenizer.encode(n)).unsqueeze(0)\n",
    "    # outputs = model(input_ids)\n",
    "    # print(outputs)\n",
    "    \n",
    "print(time.time() - t_start)   \n"
   ]
  },
  {
   "cell_type": "code",
   "execution_count": null,
   "id": "12d74aff-5138-4af5-ba77-ee495f893f50",
   "metadata": {},
   "outputs": [],
   "source": []
  },
  {
   "cell_type": "code",
   "execution_count": 4,
   "id": "ba3761e2-9c10-4cb5-b262-6516dd08c910",
   "metadata": {},
   "outputs": [],
   "source": [
    "dummy_model_input = tokenizer(\n",
    "        \"текст для конвертации\",\n",
    "        padding=\"max_length\",\n",
    "        truncation=True,\n",
    "        max_length=512,\n",
    "        return_tensors=\"pt\",\n",
    "    ).to(\"cpu\")\n",
    "torch.onnx.export(\n",
    "    model,\n",
    "    dummy_model_input[\"input_ids\"],\n",
    "    \"bert.onnx\",\n",
    "    opset_version=12,\n",
    "    input_names=[\"input_ids\"],\n",
    "    output_names=[\"output\"],\n",
    "    dynamic_axes={\n",
    "        \"input_ids\": {\n",
    "            0: \"batch_size\",\n",
    "            1: \"sequence_len\"\n",
    "        },\n",
    "        \"output\": {\n",
    "            0: \"batch_size\"\n",
    "        }\n",
    "    }\n",
    ")"
   ]
  },
  {
   "cell_type": "code",
   "execution_count": 5,
   "id": "6aab630f-244e-4d5d-a3a5-1a4fc7b0afb4",
   "metadata": {},
   "outputs": [],
   "source": [
    "\n",
    "torch.set_num_threads(1)\n",
    "\n",
    "options = SessionOptions()\n",
    "options.graph_optimization_level = onnxruntime.GraphOptimizationLevel.ORT_ENABLE_ALL\n",
    "options.intra_op_num_threads = 1\n",
    "session = InferenceSession(\"bert.onnx\", options, providers=[\"CPUExecutionProvider\"])\n",
    "session.disable_fallback()\n",
    "\n"
   ]
  },
  {
   "cell_type": "code",
   "execution_count": 6,
   "id": "cfb934ff-b23b-40d9-99be-90b1de5d8b07",
   "metadata": {},
   "outputs": [],
   "source": [
    "def softmax(logits):\n",
    "    logits = np.exp(logits)\n",
    "    s = sum(logits)\n",
    "    for i in range(3):\n",
    "        logits[i]=logits[i]/s\n",
    "    return logits"
   ]
  },
  {
   "cell_type": "code",
   "execution_count": 7,
   "id": "ff458761-5e32-4f3a-9b7c-7339292a1f43",
   "metadata": {},
   "outputs": [
    {
     "name": "stdout",
     "output_type": "stream",
     "text": [
      "0.000366, 0.691347, 0.308287\n",
      "0.004138, 0.533135, 0.462727\n",
      "0.000337, 0.824420, 0.175244\n",
      "0.001037, 0.478212, 0.520750\n",
      "0.019511, 0.440012, 0.540477\n",
      "0.004746, 0.561276, 0.433977\n",
      "0.343346, 0.387683, 0.268971\n",
      "0.547950029373169\n"
     ]
    }
   ],
   "source": [
    "t_start = time.time()\n",
    "for n in news_list:        \n",
    "    # inputs = tokenizer(\n",
    "    #     n,\n",
    "    #     padding=\"max_length\",\n",
    "    #     truncation=True,\n",
    "    #     max_length=200,\n",
    "    #     return_tensors=\"pt\"\n",
    "    # ).to('cpu')\n",
    "    inputs = tokenizer(n)\n",
    "    \n",
    "    #input_feed = {\"input_ids\":inputs[\"input_ids\"].detach().numpy()}\n",
    "    input_feed = {\"input_ids\":np.array(inputs[\"input_ids\"]).reshape(1,-1)}\n",
    "    try:\n",
    "        outputs = session.run(\n",
    "             output_names=[\"output\"],\n",
    "             input_feed=input_feed\n",
    "        )[0][0]\n",
    "    except (RuntimeError, InvalidArgument) as e:\n",
    "        print(\"Error with shape {}  - {}\".format(input_feed[\"input_ids\"].shape, e))\n",
    "    \n",
    "    sm = softmax(outputs)\n",
    "    print(\"{:.6f}, {:.6f}, {:.6f}\".format(sm[0], sm[1], sm[2]))\n",
    "    \n",
    "print(time.time() - t_start)\n",
    "#output = session.run(output_names = \"run_hidden_last\", input_feed=dict(inputs))"
   ]
  },
  {
   "cell_type": "code",
   "execution_count": 20,
   "id": "e29aef61-6ff2-4641-9e93-5422e4636508",
   "metadata": {},
   "outputs": [],
   "source": [
    "# dummy_model_input = tokenizer(\n",
    "#     \"текст для конвертации\",\n",
    "#     padding=\"max_length\",\n",
    "#     truncation=True,\n",
    "#     max_length=512,\n",
    "#     return_tensors=\"pt\",\n",
    "# )\n",
    "# torch.onnx.export(\n",
    "#     model,\n",
    "#     dummy_model_input[\"input_ids\"],\n",
    "#     \"bert1.onnx\",\n",
    "#     opset_version=12,\n",
    "#     input_names=[\"input_ids\"],\n",
    "#     output_names=[\"output\"],\n",
    "#     dynamic_axes={\n",
    "#         \"input_ids\": {\n",
    "#             0: \"batch_size\",\n",
    "#             1: \"sequence_len\"\n",
    "#         },\n",
    "#         \"output\": {\n",
    "#             0: \"batch_size\"\n",
    "#         }\n",
    "#     }\n",
    "# )"
   ]
  },
  {
   "cell_type": "code",
   "execution_count": 5,
   "id": "40467538-54d8-4926-8e39-d3b1472a5986",
   "metadata": {},
   "outputs": [],
   "source": [
    "# onnx_model = onnx.load(\"bert1.onnx\")\n",
    "# onnx.checker.check_model(onnx_model)"
   ]
  },
  {
   "cell_type": "code",
   "execution_count": 6,
   "id": "724d9287-1269-41db-b378-34c2a031555f",
   "metadata": {},
   "outputs": [],
   "source": [
    "# ort_session = onnxruntime.InferenceSession(\"bert1.onnx\")"
   ]
  },
  {
   "cell_type": "code",
   "execution_count": 8,
   "id": "d907f859-cd1e-41a4-8f60-b31b1179e3aa",
   "metadata": {},
   "outputs": [],
   "source": [
    "# def to_numpy(tensor):\n",
    "#        return tensor.detach().cpu().numpy() if tensor.requires_grad else tensor.cpu().numpy()\n"
   ]
  },
  {
   "cell_type": "code",
   "execution_count": 1,
   "id": "badc68f6-bf65-4b51-abe4-ae11724cbc49",
   "metadata": {},
   "outputs": [],
   "source": [
    "# # compute ONNX Runtime output prediction\n",
    "# ort_inputs = {ort_session.get_inputs()[0].name: to_numpy(x)}\n",
    "# ort_outs = ort_session.run(None, ort_inputs)"
   ]
  },
  {
   "cell_type": "code",
   "execution_count": null,
   "id": "1fd22fb4-ad06-4bf0-b71b-1fd16c501097",
   "metadata": {},
   "outputs": [],
   "source": []
  }
 ],
 "metadata": {
  "kernelspec": {
   "display_name": "venv_gan",
   "language": "python",
   "name": "venv_gan"
  },
  "language_info": {
   "codemirror_mode": {
    "name": "ipython",
    "version": 3
   },
   "file_extension": ".py",
   "mimetype": "text/x-python",
   "name": "python",
   "nbconvert_exporter": "python",
   "pygments_lexer": "ipython3",
   "version": "3.10.6"
  }
 },
 "nbformat": 4,
 "nbformat_minor": 5
}
